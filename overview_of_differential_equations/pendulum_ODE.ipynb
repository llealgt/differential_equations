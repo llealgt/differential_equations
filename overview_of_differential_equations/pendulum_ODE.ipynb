{
 "cells": [
  {
   "cell_type": "markdown",
   "metadata": {},
   "source": [
    "Based on https://www.youtube.com/watch?v=p_di4Zn4wz4, \n",
    "\n",
    "Numeric solution for a differential equation describing a pendulum with initial conditions(initial angle and angular velocity) and visualization in a phase space"
   ]
  },
  {
   "cell_type": "code",
   "execution_count": 1,
   "metadata": {
    "collapsed": true
   },
   "outputs": [],
   "source": [
    "import numpy as np\n",
    "import matplotlib.pyplot as plt"
   ]
  },
  {
   "cell_type": "markdown",
   "metadata": {},
   "source": [
    "### Physical constants"
   ]
  },
  {
   "cell_type": "code",
   "execution_count": 10,
   "metadata": {
    "collapsed": true
   },
   "outputs": [],
   "source": [
    "g = 9.8 #gravity constant\n",
    "L = 2 #lenght of the pendulum\n",
    "mu = 0.1 #air resistance constant\n",
    "delta_t = 0.01 #changes in time"
   ]
  },
  {
   "cell_type": "markdown",
   "metadata": {},
   "source": [
    "### Initial conditions"
   ]
  },
  {
   "cell_type": "code",
   "execution_count": 8,
   "metadata": {
    "collapsed": true
   },
   "outputs": [],
   "source": [
    "THETA_0 = np.pi/3 # inivial value for pendulum angle\n",
    "THETA_PRIME_0  = 0 # initial value for angular velocity "
   ]
  },
  {
   "cell_type": "markdown",
   "metadata": {},
   "source": [
    "### Diffferential equation\n",
    "\n",
    "$α = -μw(t)  - \\frac{g}{L}sin(θ(t))$\n",
    "\n",
    "* $θ(t)$ = angle of pendulum at time t\n",
    "* $w(t)$ = angular velocity at time t(derivative of angle)\n",
    "* $α(t)$ = angular acceleration at  time t(derivative of velocity, second derivative of angle)"
   ]
  },
  {
   "cell_type": "code",
   "execution_count": 4,
   "metadata": {
    "collapsed": true
   },
   "outputs": [],
   "source": [
    "def calc_theta_bi_prime(theta,theta_prime):\n",
    "    return (-mu * theta_prime) - (g/L) * np.sin(theta) \n"
   ]
  },
  {
   "cell_type": "code",
   "execution_count": 13,
   "metadata": {},
   "outputs": [
    {
     "data": {
      "image/png": "[encoded data removed]",
      "text/plain": [
       "<matplotlib.figure.Figure at 0x7fbf9ca4aa58>"
      ]
     },
     "metadata": {},
     "output_type": "display_data"
    },
    {
     "data": {
      "text/plain": [
       "(-0.5209927480925516, 1.5831582021021597, 2.34895103685301)"
      ]
     },
     "execution_count": 13,
     "metadata": {},
     "output_type": "execute_result"
    }
   ],
   "source": [
    "def theta(t):\n",
    "    # prepare canvas for visualization\n",
    "    fig = plt.figure()\n",
    "    ax = fig.add_subplot(1,1,1)\n",
    "    \n",
    "    # initialize tuples to store max and min values seen to configure visualization ranges\n",
    "    range_theta = (THETA_0,THETA_0)\n",
    "    range_theta_prime = (THETA_PRIME_0,THETA_PRIME_0)\n",
    "\n",
    "    # in every iteration, we will update the angle and the angular velocity, with first iteration having initial conditions\n",
    "    theta = THETA_0\n",
    "    theta_prime = THETA_PRIME_0\n",
    "    \n",
    "    for time in np.arange(0,t,delta_t):\n",
    "        \n",
    "        # calc angular acceleration given angle and angular velocityu\n",
    "        theta_bi_pŕime = calc_theta_bi_prime(theta,theta_prime)\n",
    "        #calculate deltas for angle and angular velocity\n",
    "        delta_theta = theta_prime*delta_t\n",
    "        delta_theta_prime = theta_bi_pŕime*delta_t\n",
    "        \n",
    "        #create a tiny vector in the visualization\n",
    "        ax.arrow(theta,theta_prime,delta_theta,delta_theta_prime)\n",
    "        \n",
    "        # update angle and angular velocity with their deltas\n",
    "        theta += delta_theta\n",
    "        theta_prime += delta_theta_prime\n",
    "        \n",
    "        # for visualization purposes, update maximun and minimun values seen so far\n",
    "        range_theta = (min(range_theta[0],theta) ,max(range_theta[1],theta)  )\n",
    "        range_theta_prime = (min(range_theta_prime[0],theta_prime) ,max(range_theta_prime[1],theta_prime)  )\n",
    "        \n",
    "    # add additional space to the chart for visualization purposes\n",
    "    range_theta = (range_theta[0] - 1 , range_theta[1] +1)\n",
    "    range_theta_prime = (range_theta_prime[0] - 1 , range_theta_prime[1] + 1)\n",
    "    \n",
    "    ax.set_xlim(range_theta)\n",
    "    ax.set_ylim(range_theta_prime)\n",
    "    plt.show()\n",
    "    \n",
    "    # finally return angle, angular velocity and angular acceleration for time t\n",
    "    return theta,theta_prime,theta_bi_pŕime\n",
    "\n",
    "theta(5)"
   ]
  },
  {
   "cell_type": "markdown",
   "metadata": {},
   "source": [
    "For initial values of position(angle) and velocity(angular velocity)  pi/3,0 , angle(position) velocity and acceleration are : (-0.5209927480925516, 1.5831582021021597, 2.34895103685301) which seems to converge to a fixed point 0,0 (angle of 0, with velocity of 0)"
   ]
  },
  {
   "cell_type": "code",
   "execution_count": null,
   "metadata": {
    "collapsed": true
   },
   "outputs": [],
   "source": []
  }
 ],
 "metadata": {
  "kernelspec": {
   "display_name": "Python 3",
   "language": "python",
   "name": "python3"
  },
  "language_info": {
   "codemirror_mode": {
    "name": "ipython",
    "version": 3
   },
   "file_extension": ".py",
   "mimetype": "text/x-python",
   "name": "python",
   "nbconvert_exporter": "python",
   "pygments_lexer": "ipython3",
   "version": "3.6.3"
  }
 },
 "nbformat": 4,
 "nbformat_minor": 2
}
