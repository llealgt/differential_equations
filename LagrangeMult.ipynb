{
  "nbformat": 4,
  "nbformat_minor": 0,
  "metadata": {
    "colab": {
      "name": "LagrangeMult.ipynb",
      "provenance": [],
      "authorship_tag": "ABX9TyOZSAMTPhTYzIGg4N200J8Q",
      "include_colab_link": true
    },
    "kernelspec": {
      "name": "python3",
      "display_name": "Python 3"
    }
  },
  "cells": [
    {
      "cell_type": "markdown",
      "metadata": {
        "id": "view-in-github",
        "colab_type": "text"
      },
      "source": [
        "<a href=\"https://colab.research.google.com/github/llealgt/differential_equations/blob/master/LagrangeMult.ipynb\" target=\"_parent\"><img src=\"https://colab.research.google.com/assets/colab-badge.svg\" alt=\"Open In Colab\"/></a>"
      ]
    },
    {
      "cell_type": "markdown",
      "metadata": {
        "id": "Fe5gjjGCCW9X",
        "colab_type": "text"
      },
      "source": [
        "# Lagrange multipliers for constrained optimization"
      ]
    },
    {
      "cell_type": "code",
      "metadata": {
        "id": "ggBTrnvt9w8D",
        "colab_type": "code",
        "colab": {}
      },
      "source": [
        "from scipy import optimize\n",
        "import numpy as np\n",
        "import matplotlib.pyplot as plt\n"
      ],
      "execution_count": 0,
      "outputs": []
    },
    {
      "cell_type": "markdown",
      "metadata": {
        "id": "sahUVGS5ArxS",
        "colab_type": "text"
      },
      "source": [
        "## Problem 1"
      ]
    },
    {
      "cell_type": "code",
      "metadata": {
        "id": "tyRJu8w5-TvO",
        "colab_type": "code",
        "colab": {}
      },
      "source": [
        "# First we define the functions,\n",
        "def f (x, y) :\n",
        "    return np.exp(-(2*x*x + y*y - x*y) / 2)\n",
        "\n",
        "def g (x, y) :\n",
        "    return x*x + 3*(y+1)**2 - 1\n",
        "\n",
        "# Next their derivatives,\n",
        "def dfdx (x, y) :\n",
        "    return 1/2 * (-4*x + y) * f(x, y)\n",
        "\n",
        "def dfdy (x, y) :\n",
        "    return 1/2 * (x - 2*y) * f(x, y)\n",
        "\n",
        "def dgdx (x, y) :\n",
        "    return 2*x\n",
        "\n",
        "def dgdy (x, y) :\n",
        "    return 6*(y+1)"
      ],
      "execution_count": 0,
      "outputs": []
    },
    {
      "cell_type": "code",
      "metadata": {
        "id": "Jk6eZyfr-mha",
        "colab_type": "code",
        "colab": {}
      },
      "source": [
        "def plot_contour_plot(function,x_plot_range=(0,100,100),y_plot_range=(0,100,100)):\n",
        "  x_list = np.linspace(*x_plot_range)\n",
        "  y_list = np.linspace(*y_plot_range)\n",
        "\n",
        "  X1,X2 = np.meshgrid(x_list,y_list)\n",
        "\n",
        "  Y = function(X1,X2)\n",
        "\n",
        "  fig,ax = plt.subplots(1,1)\n",
        "  cp = plt.contourf(X1,X2,Y)\n",
        "  fig.colorbar(cp)\n",
        "  plt.show()"
      ],
      "execution_count": 0,
      "outputs": []
    },
    {
      "cell_type": "code",
      "metadata": {
        "id": "htxn6RTX_G7z",
        "colab_type": "code",
        "colab": {
          "base_uri": "https://localhost:8080/",
          "height": 268
        },
        "outputId": "d5b5149d-7845-444c-bce8-0ceb8017d70a"
      },
      "source": [
        "plot_contour_plot(f,x_plot_range=(-2,2,100),y_plot_range=(-2,2,100))"
      ],
      "execution_count": 14,
      "outputs": [
        {
          "output_type": "display_data",
          "data": {
            "image/png": "[encoded data removed]",
            "text/plain": [
              "<Figure size 432x288 with 2 Axes>"
            ]
          },
          "metadata": {
            "tags": [],
            "needs_background": "light"
          }
        }
      ]
    },
    {
      "cell_type": "code",
      "metadata": {
        "id": "A3A_GS56-aZ-",
        "colab_type": "code",
        "colab": {
          "base_uri": "https://localhost:8080/",
          "height": 70
        },
        "outputId": "6bbef2c8-25a3-47e9-9a39-3f9de7a1c3de"
      },
      "source": [
        "def DL (xyλ) :\n",
        "    [x, y, λ] = xyλ\n",
        "    return np.array([\n",
        "            dfdx(x, y) - λ * dgdx(x, y),\n",
        "            dfdy(x, y) - λ * dgdy(x, y),\n",
        "            - g(x, y)\n",
        "        ])\n",
        "\n",
        "(x0, y0, λ0) = (1, -1.5, 0)\n",
        "x, y, λ = optimize.root(DL, [x0, y0, λ0]).x\n",
        "print(\"x = %g\" % x)\n",
        "print(\"y = %g\" % y)\n",
        "print(\"λ = %g\" % λ)"
      ],
      "execution_count": 4,
      "outputs": [
        {
          "output_type": "stream",
          "text": [
            "x = 0.930942\n",
            "y = -1.21083\n",
            "λ = -0.152319\n"
          ],
          "name": "stdout"
        }
      ]
    },
    {
      "cell_type": "markdown",
      "metadata": {
        "id": "7uUtRHY6AwZl",
        "colab_type": "text"
      },
      "source": [
        "## Problem 2"
      ]
    },
    {
      "cell_type": "code",
      "metadata": {
        "id": "B_E4CU5EADWw",
        "colab_type": "code",
        "colab": {}
      },
      "source": [
        "# First we define the functions, YOU SHOULD IMPLEMENT THESE\n",
        "def f (x, y) :\n",
        "    return -np.exp(x - np.power(y,2) + x*y)\n",
        "\n",
        "def g (x, y) :\n",
        "    return np.cosh(y) +x - 2\n",
        "\n",
        "# Next their derivatives, YOU SHOULD IMPLEMENT THESE\n",
        "def dfdx (x, y) :\n",
        "    return (-np.exp(x - np.power(y,2) +x*y))*(1 + y)\n",
        "\n",
        "def dfdy (x, y) :\n",
        "    return (-np.exp(x - np.power(y,2) + x*y))*(-2*y + x)\n",
        "\n",
        "def dgdx (x, y) :\n",
        "    return 1\n",
        "\n",
        "def dgdy (x, y) :\n",
        "    return np.sinh(y)"
      ],
      "execution_count": 0,
      "outputs": []
    },
    {
      "cell_type": "code",
      "metadata": {
        "id": "603hoBHyA3KL",
        "colab_type": "code",
        "colab": {
          "base_uri": "https://localhost:8080/",
          "height": 268
        },
        "outputId": "ca84d68e-61f5-4130-ff3b-ec0281641a46"
      },
      "source": [
        "plot_contour_plot(f,x_plot_range=(4,5,100),y_plot_range=(-2,2,100))"
      ],
      "execution_count": 50,
      "outputs": [
        {
          "output_type": "display_data",
          "data": {
            "image/png": "[encoded data removed]",
            "text/plain": [
              "<Figure size 432x288 with 2 Axes>"
            ]
          },
          "metadata": {
            "tags": [],
            "needs_background": "light"
          }
        }
      ]
    },
    {
      "cell_type": "code",
      "metadata": {
        "id": "5poJ9Mmh-cwO",
        "colab_type": "code",
        "colab": {
          "base_uri": "https://localhost:8080/",
          "height": 87
        },
        "outputId": "341b102c-8543-4a0d-cd7e-065a80a4610c"
      },
      "source": [
        "\n",
        "def DL (xyλ) :\n",
        "    [x, y, λ] = xyλ\n",
        "    return np.array([\n",
        "            dfdx(x, y) - λ * dgdx(x, y),\n",
        "            dfdy(x, y) - λ * dgdy(x, y),\n",
        "            - g(x, y)\n",
        "        ])\n",
        "\n",
        "# To score on this question, the code above should set\n",
        "# the variables x, y, λ, to the values which solve the\n",
        "# Langrange multiplier problem.\n",
        "\n",
        "# I.e. use the optimize.root method, as you did previously.\n",
        "\n",
        "x, y, λ = optimize.root(DL,[0,0,0]).x\n",
        "\n",
        "print(\"x = %g\" % x)\n",
        "print(\"y = %g\" % y)\n",
        "print(\"λ = %g\" % λ)\n",
        "print(\"f(x, y) = %g\" % f(x, y))"
      ],
      "execution_count": 16,
      "outputs": [
        {
          "output_type": "stream",
          "text": [
            "x = 0.957782\n",
            "y = 0.289565\n",
            "λ = -4.07789\n",
            "f(x, y) = -3.16222\n"
          ],
          "name": "stdout"
        }
      ]
    },
    {
      "cell_type": "code",
      "metadata": {
        "id": "vr2AvmoJAIWD",
        "colab_type": "code",
        "colab": {}
      },
      "source": [
        ""
      ],
      "execution_count": 0,
      "outputs": []
    }
  ]
}